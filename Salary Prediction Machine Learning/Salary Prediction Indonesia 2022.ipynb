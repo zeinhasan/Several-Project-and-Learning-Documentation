{
 "cells": [
  {
   "attachments": {},
   "cell_type": "markdown",
   "metadata": {},
   "source": [
    "# Library"
   ]
  },
  {
   "cell_type": "code",
   "execution_count": 1,
   "metadata": {},
   "outputs": [],
   "source": [
    "import pandas as pd\n",
    "import seaborn as sns\n",
    "import matplotlib.pyplot as plt\n",
    "import missingno as msno\n",
    "import numpy as np\n",
    "import plotly.express as px\n",
    "from sklearn.preprocessing import OneHotEncoder\n",
    "from sklearn.preprocessing import OrdinalEncoder\n",
    "from sklearn.model_selection import train_test_split,cross_val_score\n",
    "from sklearn.metrics import mean_absolute_error,mean_squared_error\n",
    "from lazypredict.Supervised import LazyRegressor"
   ]
  },
  {
   "attachments": {},
   "cell_type": "markdown",
   "metadata": {},
   "source": [
    "# Dataset"
   ]
  },
  {
   "cell_type": "code",
   "execution_count": 2,
   "metadata": {},
   "outputs": [],
   "source": [
    "data = pd.read_csv('D:/Project/Salary Prediction/train.csv',delimiter='|')"
   ]
  },
  {
   "cell_type": "code",
   "execution_count": 3,
   "metadata": {},
   "outputs": [
    {
     "name": "stdout",
     "output_type": "stream",
     "text": [
      "<class 'pandas.core.frame.DataFrame'>\n",
      "RangeIndex: 31746 entries, 0 to 31745\n",
      "Data columns (total 15 columns):\n",
      " #   Column                Non-Null Count  Dtype  \n",
      "---  ------                --------------  -----  \n",
      " 0   id                    31746 non-null  int64  \n",
      " 1   job_title             31746 non-null  object \n",
      " 2   location              31746 non-null  object \n",
      " 3   salary_currency       31742 non-null  object \n",
      " 4   career_level          31746 non-null  object \n",
      " 5   experience_level      27454 non-null  object \n",
      " 6   education_level       31746 non-null  object \n",
      " 7   employment_type       30402 non-null  object \n",
      " 8   job_function          31746 non-null  object \n",
      " 9   job_benefits          25078 non-null  object \n",
      " 10  company_process_time  22601 non-null  object \n",
      " 11  company_size          26582 non-null  object \n",
      " 12  company_industry      30232 non-null  object \n",
      " 13  job_description       31745 non-null  object \n",
      " 14  salary                6352 non-null   float64\n",
      "dtypes: float64(1), int64(1), object(13)\n",
      "memory usage: 3.6+ MB\n"
     ]
    }
   ],
   "source": [
    "data.info()"
   ]
  },
  {
   "cell_type": "code",
   "execution_count": 4,
   "metadata": {},
   "outputs": [
    {
     "data": {
      "text/html": [
       "<div>\n",
       "<style scoped>\n",
       "    .dataframe tbody tr th:only-of-type {\n",
       "        vertical-align: middle;\n",
       "    }\n",
       "\n",
       "    .dataframe tbody tr th {\n",
       "        vertical-align: top;\n",
       "    }\n",
       "\n",
       "    .dataframe thead th {\n",
       "        text-align: right;\n",
       "    }\n",
       "</style>\n",
       "<table border=\"1\" class=\"dataframe\">\n",
       "  <thead>\n",
       "    <tr style=\"text-align: right;\">\n",
       "      <th></th>\n",
       "      <th>id</th>\n",
       "      <th>job_title</th>\n",
       "      <th>location</th>\n",
       "      <th>salary_currency</th>\n",
       "      <th>career_level</th>\n",
       "      <th>experience_level</th>\n",
       "      <th>education_level</th>\n",
       "      <th>employment_type</th>\n",
       "      <th>job_function</th>\n",
       "      <th>job_benefits</th>\n",
       "      <th>company_process_time</th>\n",
       "      <th>company_size</th>\n",
       "      <th>company_industry</th>\n",
       "      <th>job_description</th>\n",
       "      <th>salary</th>\n",
       "    </tr>\n",
       "  </thead>\n",
       "  <tbody>\n",
       "    <tr>\n",
       "      <th>0</th>\n",
       "      <td>1</td>\n",
       "      <td>Facility Maintenance &amp; Smart Warehouse Manager</td>\n",
       "      <td>Bandung</td>\n",
       "      <td>IDR</td>\n",
       "      <td>Manajer/Asisten Manajer</td>\n",
       "      <td>5 tahun</td>\n",
       "      <td>Sertifikat Professional, D3 (Diploma), D4 (Dip...</td>\n",
       "      <td>Penuh Waktu</td>\n",
       "      <td>Manufaktur,Pemeliharaan</td>\n",
       "      <td>NaN</td>\n",
       "      <td>NaN</td>\n",
       "      <td>NaN</td>\n",
       "      <td>NaN</td>\n",
       "      <td>Deskripsi PekerjaanRequirements :D3/SI from re...</td>\n",
       "      <td>NaN</td>\n",
       "    </tr>\n",
       "    <tr>\n",
       "      <th>1</th>\n",
       "      <td>2</td>\n",
       "      <td>Procurement Department Head</td>\n",
       "      <td>Jakarta Raya</td>\n",
       "      <td>IDR</td>\n",
       "      <td>Manajer/Asisten Manajer</td>\n",
       "      <td>5 tahun</td>\n",
       "      <td>Sarjana (S1), Diploma Pascasarjana, Gelar Prof...</td>\n",
       "      <td>Penuh Waktu</td>\n",
       "      <td>Manufaktur,Pembelian/Manajemen Material</td>\n",
       "      <td>NaN</td>\n",
       "      <td>25 days</td>\n",
       "      <td>51 - 200 pekerja</td>\n",
       "      <td>Manajemen/Konsulting HR</td>\n",
       "      <td>Job Role: 1. Responsible for material availabi...</td>\n",
       "      <td>NaN</td>\n",
       "    </tr>\n",
       "    <tr>\n",
       "      <th>2</th>\n",
       "      <td>3</td>\n",
       "      <td>SALES ADMIN</td>\n",
       "      <td>Jakarta Barat</td>\n",
       "      <td>IDR</td>\n",
       "      <td>Supervisor/Koordinator</td>\n",
       "      <td>4 tahun</td>\n",
       "      <td>Sarjana (S1)</td>\n",
       "      <td>Penuh Waktu</td>\n",
       "      <td>Penjualan / Pemasaran,Penjualan Ritel</td>\n",
       "      <td>Waktu regular, Senin - Jumat;Bisnis (contoh: K...</td>\n",
       "      <td>30 days</td>\n",
       "      <td>51 - 200 pekerja</td>\n",
       "      <td>Umum &amp; Grosir</td>\n",
       "      <td>Internal Sales &amp; AdminJob Description :We are ...</td>\n",
       "      <td>NaN</td>\n",
       "    </tr>\n",
       "    <tr>\n",
       "      <th>3</th>\n",
       "      <td>4</td>\n",
       "      <td>City Operation Lead Shopee Express (Cirebon)</td>\n",
       "      <td>Cirebon</td>\n",
       "      <td>IDR</td>\n",
       "      <td>Supervisor/Koordinator</td>\n",
       "      <td>5 tahun</td>\n",
       "      <td>Sarjana (S1), Diploma Pascasarjana, Gelar Prof...</td>\n",
       "      <td>Penuh Waktu</td>\n",
       "      <td>Pelayanan,Logistik/Rantai Pasokan</td>\n",
       "      <td>Tip;Waktu regular, Senin - Jumat;Kasual (conto...</td>\n",
       "      <td>21 days</td>\n",
       "      <td>2001 - 5000 pekerja</td>\n",
       "      <td>Retail/Merchandise</td>\n",
       "      <td>Job Description:Responsible for HSE implementa...</td>\n",
       "      <td>NaN</td>\n",
       "    </tr>\n",
       "    <tr>\n",
       "      <th>4</th>\n",
       "      <td>5</td>\n",
       "      <td>Japanese Interpreter</td>\n",
       "      <td>Bekasi</td>\n",
       "      <td>IDR</td>\n",
       "      <td>Pegawai (non-manajemen &amp; non-supervisor)</td>\n",
       "      <td>2 tahun</td>\n",
       "      <td>Sertifikat Professional, D3 (Diploma), D4 (Dip...</td>\n",
       "      <td>Penuh Waktu</td>\n",
       "      <td>Lainnya,Jurnalis/Editor</td>\n",
       "      <td>NaN</td>\n",
       "      <td>23 days</td>\n",
       "      <td>201 - 500 pekerja</td>\n",
       "      <td>Manajemen/Konsulting HR</td>\n",
       "      <td>Overview: Our clients is manufacture for autom...</td>\n",
       "      <td>NaN</td>\n",
       "    </tr>\n",
       "    <tr>\n",
       "      <th>...</th>\n",
       "      <td>...</td>\n",
       "      <td>...</td>\n",
       "      <td>...</td>\n",
       "      <td>...</td>\n",
       "      <td>...</td>\n",
       "      <td>...</td>\n",
       "      <td>...</td>\n",
       "      <td>...</td>\n",
       "      <td>...</td>\n",
       "      <td>...</td>\n",
       "      <td>...</td>\n",
       "      <td>...</td>\n",
       "      <td>...</td>\n",
       "      <td>...</td>\n",
       "      <td>...</td>\n",
       "    </tr>\n",
       "    <tr>\n",
       "      <th>31741</th>\n",
       "      <td>31742</td>\n",
       "      <td>Deputy Head of Internal Audit</td>\n",
       "      <td>Jakarta Selatan</td>\n",
       "      <td>IDR</td>\n",
       "      <td>Pegawai (non-manajemen &amp; non-supervisor)</td>\n",
       "      <td>5 tahun</td>\n",
       "      <td>Sarjana (S1), Diploma Pascasarjana, Gelar Prof...</td>\n",
       "      <td>Penuh Waktu</td>\n",
       "      <td>Akuntansi / Keuangan,Perbankan / Jasa Finansial</td>\n",
       "      <td>Asuransi Gigi;Asuransi kesehatan;Parkir;Pengli...</td>\n",
       "      <td>29 days</td>\n",
       "      <td>201 - 500 pekerja</td>\n",
       "      <td>Perbankan/Pelayanan Keuangan</td>\n",
       "      <td>Key Responsibilities :Conduct audits to review...</td>\n",
       "      <td>NaN</td>\n",
       "    </tr>\n",
       "    <tr>\n",
       "      <th>31742</th>\n",
       "      <td>31743</td>\n",
       "      <td>Foreman Warehouse &amp; Logistic</td>\n",
       "      <td>Surabaya</td>\n",
       "      <td>IDR</td>\n",
       "      <td>Supervisor/Koordinator</td>\n",
       "      <td>3 tahun</td>\n",
       "      <td>Sarjana (S1)</td>\n",
       "      <td>Penuh Waktu</td>\n",
       "      <td>Manufaktur,Pembelian/Manajemen Material</td>\n",
       "      <td>Tip;Asuransi kesehatan;Parkir;Bisnis (contoh: ...</td>\n",
       "      <td>26 days</td>\n",
       "      <td>1001 - 2000 pekerja</td>\n",
       "      <td>Manufaktur/Produksi</td>\n",
       "      <td>KRITERIA dan SYARATS1 Tehnik Industri, Statisi...</td>\n",
       "      <td>NaN</td>\n",
       "    </tr>\n",
       "    <tr>\n",
       "      <th>31743</th>\n",
       "      <td>31744</td>\n",
       "      <td>System Analyst</td>\n",
       "      <td>Jakarta Selatan</td>\n",
       "      <td>IDR</td>\n",
       "      <td>Pegawai (non-manajemen &amp; non-supervisor)</td>\n",
       "      <td>3 tahun</td>\n",
       "      <td>Sarjana (S1)</td>\n",
       "      <td>Penuh Waktu</td>\n",
       "      <td>Komputer/Teknologi Informasi,IT-Perangkat Lunak</td>\n",
       "      <td>Tip;Asuransi kesehatan;Waktu regular, Senin - ...</td>\n",
       "      <td>11 days</td>\n",
       "      <td>51 - 200 pekerja</td>\n",
       "      <td>Konsultasi (IT, Ilmu Pengetahuan, Teknis &amp; Tek...</td>\n",
       "      <td>Tanggung jawab:Mengumpulkan, menganalisa kebut...</td>\n",
       "      <td>NaN</td>\n",
       "    </tr>\n",
       "    <tr>\n",
       "      <th>31744</th>\n",
       "      <td>31745</td>\n",
       "      <td>Sous Chef</td>\n",
       "      <td>Lombok</td>\n",
       "      <td>IDR</td>\n",
       "      <td>Pegawai (non-manajemen &amp; non-supervisor)</td>\n",
       "      <td>8 tahun</td>\n",
       "      <td>Sertifikat Professional, D3 (Diploma), D4 (Dip...</td>\n",
       "      <td>Penuh Waktu</td>\n",
       "      <td>Hotel/Restoran,Makanan/Minuman/Pelayanan Restoran</td>\n",
       "      <td>NaN</td>\n",
       "      <td>NaN</td>\n",
       "      <td>NaN</td>\n",
       "      <td>Makanan &amp; Minuman/Katering/Restoran</td>\n",
       "      <td>Candidate must posses at least bachelor degree...</td>\n",
       "      <td>9000000.00</td>\n",
       "    </tr>\n",
       "    <tr>\n",
       "      <th>31745</th>\n",
       "      <td>31746</td>\n",
       "      <td>Maintenance Officer</td>\n",
       "      <td>Manado</td>\n",
       "      <td>IDR</td>\n",
       "      <td>Pegawai (non-manajemen &amp; non-supervisor)</td>\n",
       "      <td>3 tahun</td>\n",
       "      <td>SMA, SMU/SMK/STM, Sertifikat Professional, D3 ...</td>\n",
       "      <td>Penuh Waktu</td>\n",
       "      <td>Bangunan/Konstruksi,Teknik Sipil/Konstruksi Ba...</td>\n",
       "      <td>Asuransi kesehatan;Waktu regular, Senin - Juma...</td>\n",
       "      <td>29 days</td>\n",
       "      <td>2001 - 5000 pekerja</td>\n",
       "      <td>Retail/Merchandise</td>\n",
       "      <td>Your responsibilities:The job of an H&amp;M Mainte...</td>\n",
       "      <td>NaN</td>\n",
       "    </tr>\n",
       "  </tbody>\n",
       "</table>\n",
       "<p>31746 rows × 15 columns</p>\n",
       "</div>"
      ],
      "text/plain": [
       "          id                                       job_title         location  \\\n",
       "0          1  Facility Maintenance & Smart Warehouse Manager          Bandung   \n",
       "1          2                     Procurement Department Head     Jakarta Raya   \n",
       "2          3                                     SALES ADMIN    Jakarta Barat   \n",
       "3          4    City Operation Lead Shopee Express (Cirebon)          Cirebon   \n",
       "4          5                            Japanese Interpreter           Bekasi   \n",
       "...      ...                                             ...              ...   \n",
       "31741  31742                   Deputy Head of Internal Audit  Jakarta Selatan   \n",
       "31742  31743                    Foreman Warehouse & Logistic         Surabaya   \n",
       "31743  31744                                  System Analyst  Jakarta Selatan   \n",
       "31744  31745                                       Sous Chef           Lombok   \n",
       "31745  31746                             Maintenance Officer           Manado   \n",
       "\n",
       "      salary_currency                              career_level  \\\n",
       "0                 IDR                   Manajer/Asisten Manajer   \n",
       "1                 IDR                   Manajer/Asisten Manajer   \n",
       "2                 IDR                    Supervisor/Koordinator   \n",
       "3                 IDR                    Supervisor/Koordinator   \n",
       "4                 IDR  Pegawai (non-manajemen & non-supervisor)   \n",
       "...               ...                                       ...   \n",
       "31741             IDR  Pegawai (non-manajemen & non-supervisor)   \n",
       "31742             IDR                    Supervisor/Koordinator   \n",
       "31743             IDR  Pegawai (non-manajemen & non-supervisor)   \n",
       "31744             IDR  Pegawai (non-manajemen & non-supervisor)   \n",
       "31745             IDR  Pegawai (non-manajemen & non-supervisor)   \n",
       "\n",
       "      experience_level                                    education_level  \\\n",
       "0              5 tahun  Sertifikat Professional, D3 (Diploma), D4 (Dip...   \n",
       "1              5 tahun  Sarjana (S1), Diploma Pascasarjana, Gelar Prof...   \n",
       "2              4 tahun                                       Sarjana (S1)   \n",
       "3              5 tahun  Sarjana (S1), Diploma Pascasarjana, Gelar Prof...   \n",
       "4              2 tahun  Sertifikat Professional, D3 (Diploma), D4 (Dip...   \n",
       "...                ...                                                ...   \n",
       "31741          5 tahun  Sarjana (S1), Diploma Pascasarjana, Gelar Prof...   \n",
       "31742          3 tahun                                       Sarjana (S1)   \n",
       "31743          3 tahun                                       Sarjana (S1)   \n",
       "31744          8 tahun  Sertifikat Professional, D3 (Diploma), D4 (Dip...   \n",
       "31745          3 tahun  SMA, SMU/SMK/STM, Sertifikat Professional, D3 ...   \n",
       "\n",
       "      employment_type                                       job_function  \\\n",
       "0         Penuh Waktu                            Manufaktur,Pemeliharaan   \n",
       "1         Penuh Waktu            Manufaktur,Pembelian/Manajemen Material   \n",
       "2         Penuh Waktu              Penjualan / Pemasaran,Penjualan Ritel   \n",
       "3         Penuh Waktu                  Pelayanan,Logistik/Rantai Pasokan   \n",
       "4         Penuh Waktu                            Lainnya,Jurnalis/Editor   \n",
       "...               ...                                                ...   \n",
       "31741     Penuh Waktu   Akuntansi / Keuangan,Perbankan / Jasa Finansial    \n",
       "31742     Penuh Waktu            Manufaktur,Pembelian/Manajemen Material   \n",
       "31743     Penuh Waktu    Komputer/Teknologi Informasi,IT-Perangkat Lunak   \n",
       "31744     Penuh Waktu  Hotel/Restoran,Makanan/Minuman/Pelayanan Restoran   \n",
       "31745     Penuh Waktu  Bangunan/Konstruksi,Teknik Sipil/Konstruksi Ba...   \n",
       "\n",
       "                                            job_benefits company_process_time  \\\n",
       "0                                                    NaN                  NaN   \n",
       "1                                                    NaN              25 days   \n",
       "2      Waktu regular, Senin - Jumat;Bisnis (contoh: K...              30 days   \n",
       "3      Tip;Waktu regular, Senin - Jumat;Kasual (conto...              21 days   \n",
       "4                                                    NaN              23 days   \n",
       "...                                                  ...                  ...   \n",
       "31741  Asuransi Gigi;Asuransi kesehatan;Parkir;Pengli...              29 days   \n",
       "31742  Tip;Asuransi kesehatan;Parkir;Bisnis (contoh: ...              26 days   \n",
       "31743  Tip;Asuransi kesehatan;Waktu regular, Senin - ...              11 days   \n",
       "31744                                                NaN                  NaN   \n",
       "31745  Asuransi kesehatan;Waktu regular, Senin - Juma...              29 days   \n",
       "\n",
       "              company_size                                   company_industry  \\\n",
       "0                      NaN                                                NaN   \n",
       "1         51 - 200 pekerja                            Manajemen/Konsulting HR   \n",
       "2         51 - 200 pekerja                                      Umum & Grosir   \n",
       "3      2001 - 5000 pekerja                                 Retail/Merchandise   \n",
       "4        201 - 500 pekerja                            Manajemen/Konsulting HR   \n",
       "...                    ...                                                ...   \n",
       "31741    201 - 500 pekerja                       Perbankan/Pelayanan Keuangan   \n",
       "31742  1001 - 2000 pekerja                                Manufaktur/Produksi   \n",
       "31743     51 - 200 pekerja  Konsultasi (IT, Ilmu Pengetahuan, Teknis & Tek...   \n",
       "31744                  NaN                Makanan & Minuman/Katering/Restoran   \n",
       "31745  2001 - 5000 pekerja                                 Retail/Merchandise   \n",
       "\n",
       "                                         job_description     salary  \n",
       "0      Deskripsi PekerjaanRequirements :D3/SI from re...        NaN  \n",
       "1      Job Role: 1. Responsible for material availabi...        NaN  \n",
       "2      Internal Sales & AdminJob Description :We are ...        NaN  \n",
       "3      Job Description:Responsible for HSE implementa...        NaN  \n",
       "4      Overview: Our clients is manufacture for autom...        NaN  \n",
       "...                                                  ...        ...  \n",
       "31741  Key Responsibilities :Conduct audits to review...        NaN  \n",
       "31742  KRITERIA dan SYARATS1 Tehnik Industri, Statisi...        NaN  \n",
       "31743  Tanggung jawab:Mengumpulkan, menganalisa kebut...        NaN  \n",
       "31744  Candidate must posses at least bachelor degree... 9000000.00  \n",
       "31745  Your responsibilities:The job of an H&M Mainte...        NaN  \n",
       "\n",
       "[31746 rows x 15 columns]"
      ]
     },
     "execution_count": 4,
     "metadata": {},
     "output_type": "execute_result"
    }
   ],
   "source": [
    "data"
   ]
  },
  {
   "attachments": {},
   "cell_type": "markdown",
   "metadata": {},
   "source": [
    "# Missing Value"
   ]
  },
  {
   "cell_type": "code",
   "execution_count": 5,
   "metadata": {},
   "outputs": [
    {
     "data": {
      "text/plain": [
       "id                          0\n",
       "job_title                   0\n",
       "location                    0\n",
       "salary_currency             4\n",
       "career_level                0\n",
       "experience_level         4292\n",
       "education_level             0\n",
       "employment_type          1344\n",
       "job_function                0\n",
       "job_benefits             6668\n",
       "company_process_time     9145\n",
       "company_size             5164\n",
       "company_industry         1514\n",
       "job_description             1\n",
       "salary                  25394\n",
       "dtype: int64"
      ]
     },
     "execution_count": 5,
     "metadata": {},
     "output_type": "execute_result"
    }
   ],
   "source": [
    "data.isnull().sum()"
   ]
  },
  {
   "attachments": {},
   "cell_type": "markdown",
   "metadata": {},
   "source": [
    "Baris dengan salary yang missing akan kita hapus karena tidak memungkinkan apabila kita melatih model dengan variabel dependen yang missing"
   ]
  },
  {
   "cell_type": "code",
   "execution_count": 6,
   "metadata": {},
   "outputs": [],
   "source": [
    "data2= data.dropna(subset=['salary'])"
   ]
  },
  {
   "cell_type": "code",
   "execution_count": 7,
   "metadata": {},
   "outputs": [
    {
     "data": {
      "text/plain": [
       "id                         0\n",
       "job_title                  0\n",
       "location                   0\n",
       "salary_currency            0\n",
       "career_level               0\n",
       "experience_level         533\n",
       "education_level            0\n",
       "employment_type            0\n",
       "job_function               0\n",
       "job_benefits            1534\n",
       "company_process_time    2149\n",
       "company_size             945\n",
       "company_industry         192\n",
       "job_description            0\n",
       "salary                     0\n",
       "dtype: int64"
      ]
     },
     "execution_count": 7,
     "metadata": {},
     "output_type": "execute_result"
    }
   ],
   "source": [
    "data2.isnull().sum()"
   ]
  },
  {
   "cell_type": "code",
   "execution_count": 8,
   "metadata": {},
   "outputs": [
    {
     "data": {
      "text/html": [
       "<div>\n",
       "<style scoped>\n",
       "    .dataframe tbody tr th:only-of-type {\n",
       "        vertical-align: middle;\n",
       "    }\n",
       "\n",
       "    .dataframe tbody tr th {\n",
       "        vertical-align: top;\n",
       "    }\n",
       "\n",
       "    .dataframe thead th {\n",
       "        text-align: right;\n",
       "    }\n",
       "</style>\n",
       "<table border=\"1\" class=\"dataframe\">\n",
       "  <thead>\n",
       "    <tr style=\"text-align: right;\">\n",
       "      <th></th>\n",
       "      <th>id</th>\n",
       "      <th>job_title</th>\n",
       "      <th>location</th>\n",
       "      <th>salary_currency</th>\n",
       "      <th>career_level</th>\n",
       "      <th>experience_level</th>\n",
       "      <th>education_level</th>\n",
       "      <th>employment_type</th>\n",
       "      <th>job_function</th>\n",
       "      <th>job_benefits</th>\n",
       "      <th>company_process_time</th>\n",
       "      <th>company_size</th>\n",
       "      <th>company_industry</th>\n",
       "      <th>job_description</th>\n",
       "      <th>salary</th>\n",
       "    </tr>\n",
       "  </thead>\n",
       "  <tbody>\n",
       "    <tr>\n",
       "      <th>5</th>\n",
       "      <td>6</td>\n",
       "      <td>KEPALA PABRIK</td>\n",
       "      <td>Balikpapan</td>\n",
       "      <td>IDR</td>\n",
       "      <td>Supervisor/Koordinator</td>\n",
       "      <td>NaN</td>\n",
       "      <td>Sertifikat Professional, D3 (Diploma), D4 (Dip...</td>\n",
       "      <td>Penuh Waktu</td>\n",
       "      <td>Manufaktur,Manufaktur</td>\n",
       "      <td>Asuransi kesehatan;Bisnis (contoh: Kemeja);Pro...</td>\n",
       "      <td>18 days</td>\n",
       "      <td>51 - 200 pekerja</td>\n",
       "      <td>Manufaktur/Produksi</td>\n",
       "      <td>Tedmond Groups membuka Lowongan Kepala Pabrik,...</td>\n",
       "      <td>10500000.00</td>\n",
       "    </tr>\n",
       "    <tr>\n",
       "      <th>9</th>\n",
       "      <td>10</td>\n",
       "      <td>Tax Supervisor</td>\n",
       "      <td>Banten</td>\n",
       "      <td>IDR</td>\n",
       "      <td>Supervisor/Koordinator</td>\n",
       "      <td>3 tahun</td>\n",
       "      <td>Sertifikat Professional, D3 (Diploma), D4 (Dip...</td>\n",
       "      <td>Penuh Waktu</td>\n",
       "      <td>Akuntansi / Keuangan,Audit &amp; Pajak</td>\n",
       "      <td>Tip;Asuransi kesehatan;Waktu regular, Senin - ...</td>\n",
       "      <td>22 days</td>\n",
       "      <td>51 - 200 pekerja</td>\n",
       "      <td>Konstruksi/Bangunan/Teknik</td>\n",
       "      <td>ResponsibilitiesPrepare corporate income tax (...</td>\n",
       "      <td>8000000.00</td>\n",
       "    </tr>\n",
       "    <tr>\n",
       "      <th>18</th>\n",
       "      <td>19</td>\n",
       "      <td>Accounting Staff</td>\n",
       "      <td>Jakarta Pusat</td>\n",
       "      <td>IDR</td>\n",
       "      <td>Pegawai (non-manajemen &amp; non-supervisor)</td>\n",
       "      <td>1 tahun</td>\n",
       "      <td>SMA, SMU/SMK/STM, Sertifikat Professional, D3 ...</td>\n",
       "      <td>Penuh Waktu</td>\n",
       "      <td>Akuntansi / Keuangan,Akuntansi Umum / Pembiayaan</td>\n",
       "      <td>Tip;Asuransi kesehatan;Bisnis (contoh: Kemeja)...</td>\n",
       "      <td>NaN</td>\n",
       "      <td>1- 50 pekerja</td>\n",
       "      <td>Manufaktur/Produksi</td>\n",
       "      <td>DESKRIPSI PEKERJAAN:Memeriksa dan/atau membuat...</td>\n",
       "      <td>4750000.00</td>\n",
       "    </tr>\n",
       "    <tr>\n",
       "      <th>22</th>\n",
       "      <td>23</td>\n",
       "      <td>Senior Staff Purchasing</td>\n",
       "      <td>Surabaya</td>\n",
       "      <td>IDR</td>\n",
       "      <td>Pegawai (non-manajemen &amp; non-supervisor)</td>\n",
       "      <td>2 tahun</td>\n",
       "      <td>Sertifikat Professional, D3 (Diploma), D4 (Dip...</td>\n",
       "      <td>Penuh Waktu</td>\n",
       "      <td>Manufaktur,Pembelian/Manajemen Material</td>\n",
       "      <td>Asuransi kesehatan;Jam Bekerja yang Panjang;Bi...</td>\n",
       "      <td>29 days</td>\n",
       "      <td>1- 50 pekerja</td>\n",
       "      <td>Elektrikal &amp; Elektronik</td>\n",
       "      <td>Deskripsi Pekerjaan:Mampu melakukan rencana pe...</td>\n",
       "      <td>5250000.00</td>\n",
       "    </tr>\n",
       "    <tr>\n",
       "      <th>26</th>\n",
       "      <td>27</td>\n",
       "      <td>MARKETING COMMUNICATION &amp; CHANNEL MANAGER</td>\n",
       "      <td>Jakarta Pusat</td>\n",
       "      <td>IDR</td>\n",
       "      <td>Manajer/Asisten Manajer</td>\n",
       "      <td>2 tahun</td>\n",
       "      <td>Tidak terspesifikasi</td>\n",
       "      <td>Penuh Waktu</td>\n",
       "      <td>Penjualan / Pemasaran,Pemasaran/Pengembangan B...</td>\n",
       "      <td>Asuransi Gigi;Asuransi kesehatan;Parkir;Waktu ...</td>\n",
       "      <td>29 days</td>\n",
       "      <td>51 - 200 pekerja</td>\n",
       "      <td>Konsultasi (IT, Ilmu Pengetahuan, Teknis &amp; Tek...</td>\n",
       "      <td>SCOPE OF ROLE :To plan, develop, implement and...</td>\n",
       "      <td>15000000.00</td>\n",
       "    </tr>\n",
       "  </tbody>\n",
       "</table>\n",
       "</div>"
      ],
      "text/plain": [
       "    id                                  job_title       location  \\\n",
       "5    6                              KEPALA PABRIK     Balikpapan   \n",
       "9   10                             Tax Supervisor         Banten   \n",
       "18  19                           Accounting Staff  Jakarta Pusat   \n",
       "22  23                    Senior Staff Purchasing       Surabaya   \n",
       "26  27  MARKETING COMMUNICATION & CHANNEL MANAGER  Jakarta Pusat   \n",
       "\n",
       "   salary_currency                              career_level experience_level  \\\n",
       "5              IDR                    Supervisor/Koordinator              NaN   \n",
       "9              IDR                    Supervisor/Koordinator          3 tahun   \n",
       "18             IDR  Pegawai (non-manajemen & non-supervisor)          1 tahun   \n",
       "22             IDR  Pegawai (non-manajemen & non-supervisor)          2 tahun   \n",
       "26             IDR                   Manajer/Asisten Manajer          2 tahun   \n",
       "\n",
       "                                      education_level employment_type  \\\n",
       "5   Sertifikat Professional, D3 (Diploma), D4 (Dip...     Penuh Waktu   \n",
       "9   Sertifikat Professional, D3 (Diploma), D4 (Dip...     Penuh Waktu   \n",
       "18  SMA, SMU/SMK/STM, Sertifikat Professional, D3 ...     Penuh Waktu   \n",
       "22  Sertifikat Professional, D3 (Diploma), D4 (Dip...     Penuh Waktu   \n",
       "26                               Tidak terspesifikasi     Penuh Waktu   \n",
       "\n",
       "                                         job_function  \\\n",
       "5                               Manufaktur,Manufaktur   \n",
       "9                  Akuntansi / Keuangan,Audit & Pajak   \n",
       "18   Akuntansi / Keuangan,Akuntansi Umum / Pembiayaan   \n",
       "22            Manufaktur,Pembelian/Manajemen Material   \n",
       "26  Penjualan / Pemasaran,Pemasaran/Pengembangan B...   \n",
       "\n",
       "                                         job_benefits company_process_time  \\\n",
       "5   Asuransi kesehatan;Bisnis (contoh: Kemeja);Pro...              18 days   \n",
       "9   Tip;Asuransi kesehatan;Waktu regular, Senin - ...              22 days   \n",
       "18  Tip;Asuransi kesehatan;Bisnis (contoh: Kemeja)...                  NaN   \n",
       "22  Asuransi kesehatan;Jam Bekerja yang Panjang;Bi...              29 days   \n",
       "26  Asuransi Gigi;Asuransi kesehatan;Parkir;Waktu ...              29 days   \n",
       "\n",
       "        company_size                                   company_industry  \\\n",
       "5   51 - 200 pekerja                                Manufaktur/Produksi   \n",
       "9   51 - 200 pekerja                         Konstruksi/Bangunan/Teknik   \n",
       "18     1- 50 pekerja                                Manufaktur/Produksi   \n",
       "22     1- 50 pekerja                            Elektrikal & Elektronik   \n",
       "26  51 - 200 pekerja  Konsultasi (IT, Ilmu Pengetahuan, Teknis & Tek...   \n",
       "\n",
       "                                      job_description      salary  \n",
       "5   Tedmond Groups membuka Lowongan Kepala Pabrik,... 10500000.00  \n",
       "9   ResponsibilitiesPrepare corporate income tax (...  8000000.00  \n",
       "18  DESKRIPSI PEKERJAAN:Memeriksa dan/atau membuat...  4750000.00  \n",
       "22  Deskripsi Pekerjaan:Mampu melakukan rencana pe...  5250000.00  \n",
       "26  SCOPE OF ROLE :To plan, develop, implement and... 15000000.00  "
      ]
     },
     "execution_count": 8,
     "metadata": {},
     "output_type": "execute_result"
    }
   ],
   "source": [
    "data2.head()"
   ]
  },
  {
   "cell_type": "code",
   "execution_count": 9,
   "metadata": {},
   "outputs": [
    {
     "data": {
      "text/plain": [
       "Sarjana (S1)                                                                                                                  1799\n",
       "Sertifikat Professional, D3 (Diploma), D4 (Diploma), Sarjana (S1)                                                             1113\n",
       "Tidak terspesifikasi                                                                                                          1099\n",
       "SMA, SMU/SMK/STM, Sertifikat Professional, D3 (Diploma), D4 (Diploma), Sarjana (S1)                                            784\n",
       "SMA, SMU/SMK/STM                                                                                                               421\n",
       "Sertifikat Professional, D3 (Diploma), D4 (Diploma)                                                                            306\n",
       "Sarjana (S1), Diploma Pascasarjana, Gelar Professional, Magister (S2)                                                          295\n",
       "Sertifikat Professional, D3 (Diploma), D4 (Diploma), Sarjana (S1), Diploma Pascasarjana, Gelar Professional, Magister (S2)     276\n",
       "SMA, SMU/SMK/STM, Sertifikat Professional, D3 (Diploma), D4 (Diploma)                                                          141\n",
       "SMA, SMU/SMK/STM, Sarjana (S1)                                                                                                  53\n",
       "Sarjana (S1), Diploma Pascasarjana, Gelar Professional, Magister (S2), Doktor (S3)                                              29\n",
       "Diploma Pascasarjana, Gelar Professional, Magister (S2)                                                                         11\n",
       "SMA, SMU/SMK/STM, Sarjana (S1), Diploma Pascasarjana, Gelar Professional, Magister (S2)                                          9\n",
       "Sertifikat Professional, D3 (Diploma), D4 (Diploma), Diploma Pascasarjana, Gelar Professional, Magister (S2)                     9\n",
       "Diploma Pascasarjana, Gelar Professional, Magister (S2), Doktor (S3)                                                             3\n",
       "Doktor (S3)                                                                                                                      2\n",
       "Sarjana (S1), Doktor (S3)                                                                                                        1\n",
       "Sertifikat Professional, D3 (Diploma), D4 (Diploma), Sarjana (S1), Doktor (S3)                                                   1\n",
       "Name: education_level, dtype: int64"
      ]
     },
     "execution_count": 9,
     "metadata": {},
     "output_type": "execute_result"
    }
   ],
   "source": [
    "data2['education_level'].value_counts()"
   ]
  },
  {
   "cell_type": "code",
   "execution_count": 10,
   "metadata": {},
   "outputs": [
    {
     "data": {
      "text/plain": [
       "Sales Executive                                                 111\n",
       "Sales                                                            51\n",
       "Graphic Designer                                                 26\n",
       "Sales Engineer                                                   25\n",
       "Digital Marketing                                                25\n",
       "                                                               ... \n",
       "System Administrator                                              1\n",
       "BULDING MANAGEMENT MANAGER                                        1\n",
       "Paint Technician Leader                                           1\n",
       "Sales Marketing Export Staff - Automotive (Bekasi) (B-73719)      1\n",
       "Sous Chef                                                         1\n",
       "Name: job_title, Length: 4317, dtype: int64"
      ]
     },
     "execution_count": 10,
     "metadata": {},
     "output_type": "execute_result"
    }
   ],
   "source": [
    "data2['job_title'].value_counts()"
   ]
  },
  {
   "cell_type": "code",
   "execution_count": 11,
   "metadata": {},
   "outputs": [
    {
     "data": {
      "text/plain": [
       "Pegawai (non-manajemen & non-supervisor)             3913\n",
       "Supervisor/Koordinator                               1056\n",
       "Manajer/Asisten Manajer                               807\n",
       "Lulusan baru/Pengalaman kerja kurang dari 1 tahun     467\n",
       "CEO/GM/Direktur/Manajer Senior                        109\n",
       "Name: career_level, dtype: int64"
      ]
     },
     "execution_count": 11,
     "metadata": {},
     "output_type": "execute_result"
    }
   ],
   "source": [
    "data2['career_level'].value_counts()"
   ]
  },
  {
   "cell_type": "code",
   "execution_count": 12,
   "metadata": {},
   "outputs": [
    {
     "data": {
      "text/plain": [
       "1 tahun     2095\n",
       "2 tahun     1740\n",
       "3 tahun     1098\n",
       "5 tahun      599\n",
       "4 tahun      125\n",
       "10 tahun      62\n",
       "7 tahun       35\n",
       "8 tahun       30\n",
       "6 tahun       15\n",
       "15 tahun       8\n",
       "12 tahun       7\n",
       "20 tahun       3\n",
       "11 tahun       1\n",
       "17 tahun       1\n",
       "Name: experience_level, dtype: int64"
      ]
     },
     "execution_count": 12,
     "metadata": {},
     "output_type": "execute_result"
    }
   ],
   "source": [
    "data2['experience_level'].value_counts()"
   ]
  },
  {
   "cell_type": "code",
   "execution_count": 13,
   "metadata": {},
   "outputs": [
    {
     "data": {
      "text/plain": [
       "Jakarta Raya          1223\n",
       "Jakarta Selatan        475\n",
       "Jakarta Barat          453\n",
       "Jakarta Utara          384\n",
       "Tangerang              374\n",
       "                      ... \n",
       "Banjarbaru               1\n",
       "Kapuas                   1\n",
       "Bangka Belitung          1\n",
       "Belitung                 1\n",
       "Hulu Sungai Tengah       1\n",
       "Name: location, Length: 164, dtype: int64"
      ]
     },
     "execution_count": 13,
     "metadata": {},
     "output_type": "execute_result"
    }
   ],
   "source": [
    "data2['location'].value_counts()"
   ]
  },
  {
   "attachments": {},
   "cell_type": "markdown",
   "metadata": {},
   "source": [
    "# Preprocessed"
   ]
  },
  {
   "cell_type": "code",
   "execution_count": 14,
   "metadata": {},
   "outputs": [
    {
     "name": "stdout",
     "output_type": "stream",
     "text": [
      "<class 'pandas.core.frame.DataFrame'>\n",
      "Int64Index: 6352 entries, 5 to 31744\n",
      "Data columns (total 15 columns):\n",
      " #   Column                Non-Null Count  Dtype  \n",
      "---  ------                --------------  -----  \n",
      " 0   id                    6352 non-null   int64  \n",
      " 1   job_title             6352 non-null   object \n",
      " 2   location              6352 non-null   object \n",
      " 3   salary_currency       6352 non-null   object \n",
      " 4   career_level          6352 non-null   object \n",
      " 5   experience_level      5819 non-null   object \n",
      " 6   education_level       6352 non-null   object \n",
      " 7   employment_type       6352 non-null   object \n",
      " 8   job_function          6352 non-null   object \n",
      " 9   job_benefits          4818 non-null   object \n",
      " 10  company_process_time  4203 non-null   object \n",
      " 11  company_size          5407 non-null   object \n",
      " 12  company_industry      6160 non-null   object \n",
      " 13  job_description       6352 non-null   object \n",
      " 14  salary                6352 non-null   float64\n",
      "dtypes: float64(1), int64(1), object(13)\n",
      "memory usage: 794.0+ KB\n"
     ]
    }
   ],
   "source": [
    "data2.info()"
   ]
  },
  {
   "attachments": {},
   "cell_type": "markdown",
   "metadata": {},
   "source": [
    "## Lower Case All String"
   ]
  },
  {
   "cell_type": "code",
   "execution_count": 15,
   "metadata": {},
   "outputs": [
    {
     "name": "stdout",
     "output_type": "stream",
     "text": [
      "Categorical features: job_title, location, salary_currency, career_level, experience_level, education_level, employment_type, job_function, job_benefits, company_process_time, company_size, company_industry, job_description\n"
     ]
    }
   ],
   "source": [
    "CATEGORICAL = data2.select_dtypes(['object']).columns\n",
    "print(f\"Categorical features: {', '.join(CATEGORICAL)}\")"
   ]
  },
  {
   "cell_type": "code",
   "execution_count": 16,
   "metadata": {},
   "outputs": [],
   "source": [
    "CATEGORICAL = CATEGORICAL.to_list()"
   ]
  },
  {
   "cell_type": "code",
   "execution_count": 17,
   "metadata": {},
   "outputs": [],
   "source": [
    "for cat in CATEGORICAL:\n",
    "    data2[cat]=data2[cat].astype(str)\n",
    "    data2[cat]=data2[cat].str.lower()"
   ]
  },
  {
   "cell_type": "code",
   "execution_count": 18,
   "metadata": {},
   "outputs": [
    {
     "data": {
      "text/html": [
       "<div>\n",
       "<style scoped>\n",
       "    .dataframe tbody tr th:only-of-type {\n",
       "        vertical-align: middle;\n",
       "    }\n",
       "\n",
       "    .dataframe tbody tr th {\n",
       "        vertical-align: top;\n",
       "    }\n",
       "\n",
       "    .dataframe thead th {\n",
       "        text-align: right;\n",
       "    }\n",
       "</style>\n",
       "<table border=\"1\" class=\"dataframe\">\n",
       "  <thead>\n",
       "    <tr style=\"text-align: right;\">\n",
       "      <th></th>\n",
       "      <th>id</th>\n",
       "      <th>job_title</th>\n",
       "      <th>location</th>\n",
       "      <th>salary_currency</th>\n",
       "      <th>career_level</th>\n",
       "      <th>experience_level</th>\n",
       "      <th>education_level</th>\n",
       "      <th>employment_type</th>\n",
       "      <th>job_function</th>\n",
       "      <th>job_benefits</th>\n",
       "      <th>company_process_time</th>\n",
       "      <th>company_size</th>\n",
       "      <th>company_industry</th>\n",
       "      <th>job_description</th>\n",
       "      <th>salary</th>\n",
       "    </tr>\n",
       "  </thead>\n",
       "  <tbody>\n",
       "    <tr>\n",
       "      <th>5</th>\n",
       "      <td>6</td>\n",
       "      <td>kepala pabrik</td>\n",
       "      <td>balikpapan</td>\n",
       "      <td>idr</td>\n",
       "      <td>supervisor/koordinator</td>\n",
       "      <td>nan</td>\n",
       "      <td>sertifikat professional, d3 (diploma), d4 (dip...</td>\n",
       "      <td>penuh waktu</td>\n",
       "      <td>manufaktur,manufaktur</td>\n",
       "      <td>asuransi kesehatan;bisnis (contoh: kemeja);pro...</td>\n",
       "      <td>18 days</td>\n",
       "      <td>51 - 200 pekerja</td>\n",
       "      <td>manufaktur/produksi</td>\n",
       "      <td>tedmond groups membuka lowongan kepala pabrik,...</td>\n",
       "      <td>10500000.00</td>\n",
       "    </tr>\n",
       "    <tr>\n",
       "      <th>9</th>\n",
       "      <td>10</td>\n",
       "      <td>tax supervisor</td>\n",
       "      <td>banten</td>\n",
       "      <td>idr</td>\n",
       "      <td>supervisor/koordinator</td>\n",
       "      <td>3 tahun</td>\n",
       "      <td>sertifikat professional, d3 (diploma), d4 (dip...</td>\n",
       "      <td>penuh waktu</td>\n",
       "      <td>akuntansi / keuangan,audit &amp; pajak</td>\n",
       "      <td>tip;asuransi kesehatan;waktu regular, senin - ...</td>\n",
       "      <td>22 days</td>\n",
       "      <td>51 - 200 pekerja</td>\n",
       "      <td>konstruksi/bangunan/teknik</td>\n",
       "      <td>responsibilitiesprepare corporate income tax (...</td>\n",
       "      <td>8000000.00</td>\n",
       "    </tr>\n",
       "    <tr>\n",
       "      <th>18</th>\n",
       "      <td>19</td>\n",
       "      <td>accounting staff</td>\n",
       "      <td>jakarta pusat</td>\n",
       "      <td>idr</td>\n",
       "      <td>pegawai (non-manajemen &amp; non-supervisor)</td>\n",
       "      <td>1 tahun</td>\n",
       "      <td>sma, smu/smk/stm, sertifikat professional, d3 ...</td>\n",
       "      <td>penuh waktu</td>\n",
       "      <td>akuntansi / keuangan,akuntansi umum / pembiayaan</td>\n",
       "      <td>tip;asuransi kesehatan;bisnis (contoh: kemeja)...</td>\n",
       "      <td>nan</td>\n",
       "      <td>1- 50 pekerja</td>\n",
       "      <td>manufaktur/produksi</td>\n",
       "      <td>deskripsi pekerjaan:memeriksa dan/atau membuat...</td>\n",
       "      <td>4750000.00</td>\n",
       "    </tr>\n",
       "    <tr>\n",
       "      <th>22</th>\n",
       "      <td>23</td>\n",
       "      <td>senior staff purchasing</td>\n",
       "      <td>surabaya</td>\n",
       "      <td>idr</td>\n",
       "      <td>pegawai (non-manajemen &amp; non-supervisor)</td>\n",
       "      <td>2 tahun</td>\n",
       "      <td>sertifikat professional, d3 (diploma), d4 (dip...</td>\n",
       "      <td>penuh waktu</td>\n",
       "      <td>manufaktur,pembelian/manajemen material</td>\n",
       "      <td>asuransi kesehatan;jam bekerja yang panjang;bi...</td>\n",
       "      <td>29 days</td>\n",
       "      <td>1- 50 pekerja</td>\n",
       "      <td>elektrikal &amp; elektronik</td>\n",
       "      <td>deskripsi pekerjaan:mampu melakukan rencana pe...</td>\n",
       "      <td>5250000.00</td>\n",
       "    </tr>\n",
       "    <tr>\n",
       "      <th>26</th>\n",
       "      <td>27</td>\n",
       "      <td>marketing communication &amp; channel manager</td>\n",
       "      <td>jakarta pusat</td>\n",
       "      <td>idr</td>\n",
       "      <td>manajer/asisten manajer</td>\n",
       "      <td>2 tahun</td>\n",
       "      <td>tidak terspesifikasi</td>\n",
       "      <td>penuh waktu</td>\n",
       "      <td>penjualan / pemasaran,pemasaran/pengembangan b...</td>\n",
       "      <td>asuransi gigi;asuransi kesehatan;parkir;waktu ...</td>\n",
       "      <td>29 days</td>\n",
       "      <td>51 - 200 pekerja</td>\n",
       "      <td>konsultasi (it, ilmu pengetahuan, teknis &amp; tek...</td>\n",
       "      <td>scope of role :to plan, develop, implement and...</td>\n",
       "      <td>15000000.00</td>\n",
       "    </tr>\n",
       "  </tbody>\n",
       "</table>\n",
       "</div>"
      ],
      "text/plain": [
       "    id                                  job_title       location  \\\n",
       "5    6                              kepala pabrik     balikpapan   \n",
       "9   10                             tax supervisor         banten   \n",
       "18  19                           accounting staff  jakarta pusat   \n",
       "22  23                    senior staff purchasing       surabaya   \n",
       "26  27  marketing communication & channel manager  jakarta pusat   \n",
       "\n",
       "   salary_currency                              career_level experience_level  \\\n",
       "5              idr                    supervisor/koordinator              nan   \n",
       "9              idr                    supervisor/koordinator          3 tahun   \n",
       "18             idr  pegawai (non-manajemen & non-supervisor)          1 tahun   \n",
       "22             idr  pegawai (non-manajemen & non-supervisor)          2 tahun   \n",
       "26             idr                   manajer/asisten manajer          2 tahun   \n",
       "\n",
       "                                      education_level employment_type  \\\n",
       "5   sertifikat professional, d3 (diploma), d4 (dip...     penuh waktu   \n",
       "9   sertifikat professional, d3 (diploma), d4 (dip...     penuh waktu   \n",
       "18  sma, smu/smk/stm, sertifikat professional, d3 ...     penuh waktu   \n",
       "22  sertifikat professional, d3 (diploma), d4 (dip...     penuh waktu   \n",
       "26                               tidak terspesifikasi     penuh waktu   \n",
       "\n",
       "                                         job_function  \\\n",
       "5                               manufaktur,manufaktur   \n",
       "9                  akuntansi / keuangan,audit & pajak   \n",
       "18   akuntansi / keuangan,akuntansi umum / pembiayaan   \n",
       "22            manufaktur,pembelian/manajemen material   \n",
       "26  penjualan / pemasaran,pemasaran/pengembangan b...   \n",
       "\n",
       "                                         job_benefits company_process_time  \\\n",
       "5   asuransi kesehatan;bisnis (contoh: kemeja);pro...              18 days   \n",
       "9   tip;asuransi kesehatan;waktu regular, senin - ...              22 days   \n",
       "18  tip;asuransi kesehatan;bisnis (contoh: kemeja)...                  nan   \n",
       "22  asuransi kesehatan;jam bekerja yang panjang;bi...              29 days   \n",
       "26  asuransi gigi;asuransi kesehatan;parkir;waktu ...              29 days   \n",
       "\n",
       "        company_size                                   company_industry  \\\n",
       "5   51 - 200 pekerja                                manufaktur/produksi   \n",
       "9   51 - 200 pekerja                         konstruksi/bangunan/teknik   \n",
       "18     1- 50 pekerja                                manufaktur/produksi   \n",
       "22     1- 50 pekerja                            elektrikal & elektronik   \n",
       "26  51 - 200 pekerja  konsultasi (it, ilmu pengetahuan, teknis & tek...   \n",
       "\n",
       "                                      job_description      salary  \n",
       "5   tedmond groups membuka lowongan kepala pabrik,... 10500000.00  \n",
       "9   responsibilitiesprepare corporate income tax (...  8000000.00  \n",
       "18  deskripsi pekerjaan:memeriksa dan/atau membuat...  4750000.00  \n",
       "22  deskripsi pekerjaan:mampu melakukan rencana pe...  5250000.00  \n",
       "26  scope of role :to plan, develop, implement and... 15000000.00  "
      ]
     },
     "execution_count": 18,
     "metadata": {},
     "output_type": "execute_result"
    }
   ],
   "source": [
    "data2.head()"
   ]
  },
  {
   "attachments": {},
   "cell_type": "markdown",
   "metadata": {},
   "source": [
    "## Experience_level"
   ]
  },
  {
   "cell_type": "code",
   "execution_count": 19,
   "metadata": {},
   "outputs": [],
   "source": [
    "data2['experience_level']=data2['experience_level'].str.replace(\" tahun\",\"\")"
   ]
  },
  {
   "attachments": {},
   "cell_type": "markdown",
   "metadata": {},
   "source": [
    "## Min Education Level"
   ]
  },
  {
   "cell_type": "code",
   "execution_count": 20,
   "metadata": {},
   "outputs": [
    {
     "data": {
      "text/plain": [
       "sarjana (s1)                                                                                                                  1799\n",
       "sertifikat professional, d3 (diploma), d4 (diploma), sarjana (s1)                                                             1113\n",
       "tidak terspesifikasi                                                                                                          1099\n",
       "sma, smu/smk/stm, sertifikat professional, d3 (diploma), d4 (diploma), sarjana (s1)                                            784\n",
       "sma, smu/smk/stm                                                                                                               421\n",
       "sertifikat professional, d3 (diploma), d4 (diploma)                                                                            306\n",
       "sarjana (s1), diploma pascasarjana, gelar professional, magister (s2)                                                          295\n",
       "sertifikat professional, d3 (diploma), d4 (diploma), sarjana (s1), diploma pascasarjana, gelar professional, magister (s2)     276\n",
       "sma, smu/smk/stm, sertifikat professional, d3 (diploma), d4 (diploma)                                                          141\n",
       "sma, smu/smk/stm, sarjana (s1)                                                                                                  53\n",
       "sarjana (s1), diploma pascasarjana, gelar professional, magister (s2), doktor (s3)                                              29\n",
       "diploma pascasarjana, gelar professional, magister (s2)                                                                         11\n",
       "sma, smu/smk/stm, sarjana (s1), diploma pascasarjana, gelar professional, magister (s2)                                          9\n",
       "sertifikat professional, d3 (diploma), d4 (diploma), diploma pascasarjana, gelar professional, magister (s2)                     9\n",
       "diploma pascasarjana, gelar professional, magister (s2), doktor (s3)                                                             3\n",
       "doktor (s3)                                                                                                                      2\n",
       "sarjana (s1), doktor (s3)                                                                                                        1\n",
       "sertifikat professional, d3 (diploma), d4 (diploma), sarjana (s1), doktor (s3)                                                   1\n",
       "Name: education_level, dtype: int64"
      ]
     },
     "execution_count": 20,
     "metadata": {},
     "output_type": "execute_result"
    }
   ],
   "source": [
    "data2['education_level'].value_counts()"
   ]
  },
  {
   "cell_type": "code",
   "execution_count": 21,
   "metadata": {},
   "outputs": [
    {
     "data": {
      "text/plain": [
       "6352"
      ]
     },
     "execution_count": 21,
     "metadata": {},
     "output_type": "execute_result"
    }
   ],
   "source": [
    "len(data2['education_level'])"
   ]
  },
  {
   "cell_type": "code",
   "execution_count": 22,
   "metadata": {},
   "outputs": [],
   "source": [
    "data2['Education_Min_level']=\"Undefined\""
   ]
  },
  {
   "cell_type": "code",
   "execution_count": 23,
   "metadata": {},
   "outputs": [],
   "source": [
    "for row in range(0,len(data2['education_level'])):\n",
    "    if 'doktor' in data2['education_level'].iloc[row]: \n",
    "        data2['Education_Min_level'].iloc[row]='doktor'\n",
    "\n",
    "for row in range(0,len(data2['education_level'])):\n",
    "    if 'gelar professional' in data2['education_level'].iloc[row]: \n",
    "        data2['Education_Min_level'].iloc[row]='magister'\n",
    "\n",
    "for row in range(0,len(data2['education_level'])):\n",
    "    if 's1' in data2['education_level'].iloc[row]:\n",
    "        data2['Education_Min_level'].iloc[row]='sarjana'\n",
    "\n",
    "for row in range(0,len(data2['education_level'])):\n",
    "    if \"d3\" in data2['education_level'].iloc[row]: \n",
    "        data2['Education_Min_level'].iloc[row]='diploma'\n",
    "\n",
    "for row in range(0,len(data2['education_level'])):\n",
    "    if 'sma' in data2['education_level'].iloc[row]:\n",
    "        data2['Education_Min_level'].iloc[row]='SMA/SMK'\n",
    "        \n",
    "for row in range(0,len(data2['education_level'])):\n",
    "    if 'tidak terspesifikasi' in data2['education_level'].iloc[row]:\n",
    "        data2['Education_Min_level'].iloc[row]='tidak terspesifikasi'"
   ]
  },
  {
   "cell_type": "code",
   "execution_count": 24,
   "metadata": {},
   "outputs": [
    {
     "data": {
      "text/plain": [
       "sarjana                 2124\n",
       "diploma                 1705\n",
       "SMA/SMK                 1408\n",
       "tidak terspesifikasi    1099\n",
       "magister                  14\n",
       "doktor                     2\n",
       "Name: Education_Min_level, dtype: int64"
      ]
     },
     "execution_count": 24,
     "metadata": {},
     "output_type": "execute_result"
    }
   ],
   "source": [
    "data2['Education_Min_level'].value_counts()"
   ]
  },
  {
   "attachments": {},
   "cell_type": "markdown",
   "metadata": {},
   "source": [
    "## Job Function"
   ]
  },
  {
   "cell_type": "code",
   "execution_count": 25,
   "metadata": {},
   "outputs": [
    {
     "data": {
      "text/plain": [
       "penjualan / pemasaran,penjualan ritel                      718\n",
       "komputer/teknologi informasi,it-perangkat lunak            581\n",
       "akuntansi / keuangan,akuntansi umum / pembiayaan           458\n",
       "penjualan / pemasaran,pemasaran/pengembangan bisnis        398\n",
       "sumber daya manusia/personalia,sumber daya manusia / hr    264\n",
       "                                                          ... \n",
       "sains,geologi/geofisika                                      4\n",
       "manufaktur,kontrol proses                                    3\n",
       "sains,bioteknologi                                           1\n",
       "pelayanan,layanan sosial/konseling                           1\n",
       "lainnya,penerbitan                                           1\n",
       "Name: job_function, Length: 67, dtype: int64"
      ]
     },
     "execution_count": 25,
     "metadata": {},
     "output_type": "execute_result"
    }
   ],
   "source": [
    "data2['job_function'].value_counts()"
   ]
  },
  {
   "cell_type": "code",
   "execution_count": 26,
   "metadata": {},
   "outputs": [],
   "source": [
    "data2[['Main Job Function', 'Sub Main Job Function']] = data2['job_function'].str.split(',', expand=True)"
   ]
  },
  {
   "cell_type": "code",
   "execution_count": 27,
   "metadata": {},
   "outputs": [
    {
     "data": {
      "text/plain": [
       "penjualan / pemasaran             2139\n",
       "komputer/teknologi informasi       748\n",
       "akuntansi / keuangan               728\n",
       "sumber daya manusia/personalia     544\n",
       "manufaktur                         372\n",
       "pelayanan                          309\n",
       "seni/media/komunikasi              273\n",
       "teknik                             270\n",
       "bangunan/konstruksi                255\n",
       "hotel/restoran                     225\n",
       "lainnya                            169\n",
       "layanan kesehatan                  132\n",
       "pendidikan/pelatihan               120\n",
       "sains                               68\n",
       "Name: Main Job Function, dtype: int64"
      ]
     },
     "execution_count": 27,
     "metadata": {},
     "output_type": "execute_result"
    }
   ],
   "source": [
    "data2['Main Job Function'].value_counts()"
   ]
  },
  {
   "cell_type": "code",
   "execution_count": 29,
   "metadata": {},
   "outputs": [
    {
     "data": {
      "text/plain": [
       "penjualan ritel                  718\n",
       "it-perangkat lunak               581\n",
       "akuntansi umum / pembiayaan      458\n",
       "pemasaran/pengembangan bisnis    398\n",
       "sumber daya manusia / hr         264\n",
       "                                ... \n",
       "geologi/geofisika                  4\n",
       "kontrol proses                     3\n",
       "bioteknologi                       1\n",
       "layanan sosial/konseling           1\n",
       "penerbitan                         1\n",
       "Name: Sub Main Job Function, Length: 67, dtype: int64"
      ]
     },
     "execution_count": 29,
     "metadata": {},
     "output_type": "execute_result"
    }
   ],
   "source": [
    "data2['Sub Main Job Function'].value_counts()"
   ]
  },
  {
   "attachments": {},
   "cell_type": "markdown",
   "metadata": {},
   "source": [
    "## Job Benefit"
   ]
  },
  {
   "cell_type": "code",
   "execution_count": null,
   "metadata": {},
   "outputs": [],
   "source": []
  },
  {
   "attachments": {},
   "cell_type": "markdown",
   "metadata": {},
   "source": [
    "## Company Process Time"
   ]
  },
  {
   "cell_type": "code",
   "execution_count": 30,
   "metadata": {},
   "outputs": [],
   "source": [
    "data2['company_process_time'] = data2['company_process_time'].str.replace(' days','')"
   ]
  },
  {
   "attachments": {},
   "cell_type": "markdown",
   "metadata": {},
   "source": [
    "## Re Defined Missing Value"
   ]
  },
  {
   "cell_type": "code",
   "execution_count": 37,
   "metadata": {},
   "outputs": [],
   "source": [
    "data2=data2.replace('nan',np.NaN)\n",
    "data2=data2.replace(\"Undefined\",np.NAN)"
   ]
  },
  {
   "cell_type": "code",
   "execution_count": 38,
   "metadata": {},
   "outputs": [
    {
     "name": "stdout",
     "output_type": "stream",
     "text": [
      "<class 'pandas.core.frame.DataFrame'>\n",
      "Int64Index: 6352 entries, 5 to 31744\n",
      "Data columns (total 18 columns):\n",
      " #   Column                 Non-Null Count  Dtype  \n",
      "---  ------                 --------------  -----  \n",
      " 0   id                     6352 non-null   int64  \n",
      " 1   job_title              6352 non-null   object \n",
      " 2   location               6352 non-null   object \n",
      " 3   salary_currency        6352 non-null   object \n",
      " 4   career_level           6352 non-null   object \n",
      " 5   experience_level       5819 non-null   object \n",
      " 6   education_level        6352 non-null   object \n",
      " 7   employment_type        6352 non-null   object \n",
      " 8   job_function           6352 non-null   object \n",
      " 9   job_benefits           4818 non-null   object \n",
      " 10  company_process_time   4203 non-null   object \n",
      " 11  company_size           5407 non-null   object \n",
      " 12  company_industry       6160 non-null   object \n",
      " 13  job_description        6352 non-null   object \n",
      " 14  salary                 6352 non-null   float64\n",
      " 15  Education_Min_level    6352 non-null   object \n",
      " 16  Main Job Function      6352 non-null   object \n",
      " 17  Sub Main Job Function  6352 non-null   object \n",
      "dtypes: float64(1), int64(1), object(16)\n",
      "memory usage: 942.9+ KB\n"
     ]
    }
   ],
   "source": [
    "data2.info()"
   ]
  },
  {
   "attachments": {},
   "cell_type": "markdown",
   "metadata": {},
   "source": [
    "# Missing Value Imputation"
   ]
  }
 ],
 "metadata": {
  "kernelspec": {
   "display_name": "Python 3",
   "language": "python",
   "name": "python3"
  },
  "language_info": {
   "codemirror_mode": {
    "name": "ipython",
    "version": 3
   },
   "file_extension": ".py",
   "mimetype": "text/x-python",
   "name": "python",
   "nbconvert_exporter": "python",
   "pygments_lexer": "ipython3",
   "version": "3.10.9"
  },
  "orig_nbformat": 4,
  "vscode": {
   "interpreter": {
    "hash": "e9487f80b5c2735bbc4afc7489ff13f77596a62e20b78908b8eb2e8fe79271a4"
   }
  }
 },
 "nbformat": 4,
 "nbformat_minor": 2
}
